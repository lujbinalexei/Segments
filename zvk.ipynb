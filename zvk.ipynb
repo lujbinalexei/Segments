{
 "cells": [
  {
   "cell_type": "markdown",
   "metadata": {},
   "source": [
    "Первоначально из общей базы выбираются только те клиенты (заявители), которые в течение 2019 года впервые разместили online-заявку на получение займа, перейдя на сайт FM через партнерскую landing page. Далие такие **клиенты** сегментируются в три группы:\n",
    "- **mixed**: повторные размещения клиентом заявок происходили как путем прямого захода на сайт FM, так и через landing page;\n",
    "- **landing only**: все повторные обращения происходили через landing page;\n",
    "- **self only**: все повторные обращения происходили напрямую через сайт FM.\n",
    "\n",
    "Ниже для наглядности приведены случайно выбранные представители каждого из сегментов."
   ]
  },
  {
   "cell_type": "markdown",
   "metadata": {},
   "source": [
    "**Типичный представитель сегмента mixed: ВЫРУПАЕВ ВЛАДИМИР АНАТОЛЬЕВИЧ**  \n",
    "Впервые заходит 09/01/2019 через landing, затем повторно обращается 05/02/2019 через landing и 11/05/2019 напрямую через сайт FM:"
   ]
  },
  {
   "cell_type": "code",
   "execution_count": 20,
   "metadata": {},
   "outputs": [
    {
     "data": {
      "text/html": [
       "<div>\n",
       "<style scoped>\n",
       "    .dataframe tbody tr th:only-of-type {\n",
       "        vertical-align: middle;\n",
       "    }\n",
       "\n",
       "    .dataframe tbody tr th {\n",
       "        vertical-align: top;\n",
       "    }\n",
       "\n",
       "    .dataframe thead th {\n",
       "        text-align: right;\n",
       "    }\n",
       "</style>\n",
       "<table border=\"1\" class=\"dataframe\">\n",
       "  <thead>\n",
       "    <tr style=\"text-align: right;\">\n",
       "      <th></th>\n",
       "      <th>NumZvk</th>\n",
       "      <th>DateZvk</th>\n",
       "      <th>Region</th>\n",
       "      <th>City</th>\n",
       "      <th>ProductType</th>\n",
       "      <th>Product</th>\n",
       "      <th>Status</th>\n",
       "      <th>LoanSum</th>\n",
       "      <th>Duration</th>\n",
       "      <th>Name</th>\n",
       "      <th>Gender</th>\n",
       "      <th>BD</th>\n",
       "      <th>NumOfLnsBfr</th>\n",
       "      <th>ON</th>\n",
       "      <th>IDZvk</th>\n",
       "      <th>Partner</th>\n",
       "    </tr>\n",
       "  </thead>\n",
       "  <tbody>\n",
       "    <tr>\n",
       "      <th>119016</th>\n",
       "      <td>5-55-555/ON/19.15055</td>\n",
       "      <td>2019-01-09</td>\n",
       "      <td>Санкт-Петербург</td>\n",
       "      <td>Санкт-Петербург</td>\n",
       "      <td>leadgid_receipt</td>\n",
       "      <td>landing</td>\n",
       "      <td>Заем погашен</td>\n",
       "      <td>5000.0</td>\n",
       "      <td>16</td>\n",
       "      <td>ВЫРУПАЕВ ВЛАДИМИР АНАТОЛЬЕВИЧ,1981-03-11</td>\n",
       "      <td>Мужской</td>\n",
       "      <td>1981-03-11</td>\n",
       "      <td>0</td>\n",
       "      <td>True</td>\n",
       "      <td>1596130.0</td>\n",
       "      <td>leadgid_receipt</td>\n",
       "    </tr>\n",
       "    <tr>\n",
       "      <th>273187</th>\n",
       "      <td>5-55-555/ON/19.63373</td>\n",
       "      <td>2019-02-05</td>\n",
       "      <td>Санкт-Петербург</td>\n",
       "      <td>Санкт-Петербург</td>\n",
       "      <td>Повторная выдача Online 29.01.2019</td>\n",
       "      <td>online</td>\n",
       "      <td>Заем продлен</td>\n",
       "      <td>5000.0</td>\n",
       "      <td>23</td>\n",
       "      <td>ВЫРУПАЕВ ВЛАДИМИР АНАТОЛЬЕВИЧ,1981-03-11</td>\n",
       "      <td>Мужской</td>\n",
       "      <td>1981-03-11</td>\n",
       "      <td>1</td>\n",
       "      <td>True</td>\n",
       "      <td>1739378.0</td>\n",
       "      <td>leadgid_receipt</td>\n",
       "    </tr>\n",
       "    <tr>\n",
       "      <th>512914</th>\n",
       "      <td>5-55-555/ON/19.220633</td>\n",
       "      <td>2019-05-11</td>\n",
       "      <td>Санкт-Петербург</td>\n",
       "      <td>Санкт-Петербург</td>\n",
       "      <td>Повторная выдача Online 29.01.2019</td>\n",
       "      <td>online</td>\n",
       "      <td>Выдан заем</td>\n",
       "      <td>8000.0</td>\n",
       "      <td>23</td>\n",
       "      <td>ВЫРУПАЕВ ВЛАДИМИР АНАТОЛЬЕВИЧ,1981-03-11</td>\n",
       "      <td>Мужской</td>\n",
       "      <td>1981-03-11</td>\n",
       "      <td>2</td>\n",
       "      <td>True</td>\n",
       "      <td>NaN</td>\n",
       "      <td>NaN</td>\n",
       "    </tr>\n",
       "  </tbody>\n",
       "</table>\n",
       "</div>"
      ],
      "text/plain": [
       "                       NumZvk     DateZvk           Region             City  \\\n",
       "119016   5-55-555/ON/19.15055  2019-01-09  Санкт-Петербург  Санкт-Петербург   \n",
       "273187   5-55-555/ON/19.63373  2019-02-05  Санкт-Петербург  Санкт-Петербург   \n",
       "512914  5-55-555/ON/19.220633  2019-05-11  Санкт-Петербург  Санкт-Петербург   \n",
       "\n",
       "                               ProductType  Product        Status  LoanSum  \\\n",
       "119016                     leadgid_receipt  landing  Заем погашен   5000.0   \n",
       "273187  Повторная выдача Online 29.01.2019   online  Заем продлен   5000.0   \n",
       "512914  Повторная выдача Online 29.01.2019   online    Выдан заем   8000.0   \n",
       "\n",
       "       Duration                                      Name   Gender  \\\n",
       "119016       16  ВЫРУПАЕВ ВЛАДИМИР АНАТОЛЬЕВИЧ,1981-03-11  Мужской   \n",
       "273187       23  ВЫРУПАЕВ ВЛАДИМИР АНАТОЛЬЕВИЧ,1981-03-11  Мужской   \n",
       "512914       23  ВЫРУПАЕВ ВЛАДИМИР АНАТОЛЬЕВИЧ,1981-03-11  Мужской   \n",
       "\n",
       "                BD  NumOfLnsBfr    ON      IDZvk          Partner  \n",
       "119016  1981-03-11            0  True  1596130.0  leadgid_receipt  \n",
       "273187  1981-03-11            1  True  1739378.0  leadgid_receipt  \n",
       "512914  1981-03-11            2  True        NaN              NaN  "
      ]
     },
     "execution_count": 20,
     "metadata": {},
     "output_type": "execute_result"
    }
   ],
   "source": [
    "zvkapidump_on[zvkapidump_on.Name == 'ВЫРУПАЕВ ВЛАДИМИР АНАТОЛЬЕВИЧ,1981-03-11'].sort_values('DateZvk')"
   ]
  },
  {
   "cell_type": "markdown",
   "metadata": {},
   "source": [
    "**Типичный представитель сегмента landing only: ТЕРЕШКИН СТАНИСЛАВ СЕРГЕЕВИЧ**  \n",
    "Впервые заходит 08/01/2019 через landing (gidfinance), затем дважды повторно обращается 24/03/2019 и 18/04/2019 через landing:"
   ]
  },
  {
   "cell_type": "code",
   "execution_count": 21,
   "metadata": {},
   "outputs": [
    {
     "data": {
      "text/html": [
       "<div>\n",
       "<style scoped>\n",
       "    .dataframe tbody tr th:only-of-type {\n",
       "        vertical-align: middle;\n",
       "    }\n",
       "\n",
       "    .dataframe tbody tr th {\n",
       "        vertical-align: top;\n",
       "    }\n",
       "\n",
       "    .dataframe thead th {\n",
       "        text-align: right;\n",
       "    }\n",
       "</style>\n",
       "<table border=\"1\" class=\"dataframe\">\n",
       "  <thead>\n",
       "    <tr style=\"text-align: right;\">\n",
       "      <th></th>\n",
       "      <th>NumZvk</th>\n",
       "      <th>DateZvk</th>\n",
       "      <th>Region</th>\n",
       "      <th>City</th>\n",
       "      <th>ProductType</th>\n",
       "      <th>Product</th>\n",
       "      <th>Status</th>\n",
       "      <th>LoanSum</th>\n",
       "      <th>Duration</th>\n",
       "      <th>Name</th>\n",
       "      <th>Gender</th>\n",
       "      <th>BD</th>\n",
       "      <th>NumOfLnsBfr</th>\n",
       "      <th>ON</th>\n",
       "      <th>IDZvk</th>\n",
       "      <th>Partner</th>\n",
       "    </tr>\n",
       "  </thead>\n",
       "  <tbody>\n",
       "    <tr>\n",
       "      <th>125285</th>\n",
       "      <td>5-55-555/ON/19.12454</td>\n",
       "      <td>2019-01-08</td>\n",
       "      <td>Санкт-Петербург</td>\n",
       "      <td>Санкт-Петербург</td>\n",
       "      <td>ГИДФИНАНС</td>\n",
       "      <td>landing</td>\n",
       "      <td>Заем погашен</td>\n",
       "      <td>5000.0</td>\n",
       "      <td>16</td>\n",
       "      <td>ТЕРЕШКИН СТАНИСЛАВ СЕРГЕЕВИЧ,1993-04-02</td>\n",
       "      <td>Мужской</td>\n",
       "      <td>1993-04-02</td>\n",
       "      <td>0</td>\n",
       "      <td>True</td>\n",
       "      <td>1589858.0</td>\n",
       "      <td>gidfinance</td>\n",
       "    </tr>\n",
       "    <tr>\n",
       "      <th>328896</th>\n",
       "      <td>5-55-555/ON/19.136795</td>\n",
       "      <td>2019-03-24</td>\n",
       "      <td>Санкт-Петербург</td>\n",
       "      <td>Санкт-Петербург</td>\n",
       "      <td>Повторная выдача Online 29.01.2019</td>\n",
       "      <td>online</td>\n",
       "      <td>Выдан заем</td>\n",
       "      <td>8000.0</td>\n",
       "      <td>23</td>\n",
       "      <td>ТЕРЕШКИН СТАНИСЛАВ СЕРГЕЕВИЧ,1993-04-02</td>\n",
       "      <td>Мужской</td>\n",
       "      <td>1993-04-02</td>\n",
       "      <td>1</td>\n",
       "      <td>True</td>\n",
       "      <td>1981378.0</td>\n",
       "      <td>gidfinance</td>\n",
       "    </tr>\n",
       "    <tr>\n",
       "      <th>464814</th>\n",
       "      <td>5-55-555/ON/19.189854</td>\n",
       "      <td>2019-04-18</td>\n",
       "      <td>Санкт-Петербург</td>\n",
       "      <td>Санкт-Петербург</td>\n",
       "      <td>Повторная выдача Online 29.01.2019</td>\n",
       "      <td>online</td>\n",
       "      <td>Отказано</td>\n",
       "      <td>30000.0</td>\n",
       "      <td>23</td>\n",
       "      <td>ТЕРЕШКИН СТАНИСЛАВ СЕРГЕЕВИЧ,1993-04-02</td>\n",
       "      <td>Мужской</td>\n",
       "      <td>1993-04-02</td>\n",
       "      <td>2</td>\n",
       "      <td>True</td>\n",
       "      <td>2059054.0</td>\n",
       "      <td>leadgid_receipt</td>\n",
       "    </tr>\n",
       "  </tbody>\n",
       "</table>\n",
       "</div>"
      ],
      "text/plain": [
       "                       NumZvk     DateZvk           Region             City  \\\n",
       "125285   5-55-555/ON/19.12454  2019-01-08  Санкт-Петербург  Санкт-Петербург   \n",
       "328896  5-55-555/ON/19.136795  2019-03-24  Санкт-Петербург  Санкт-Петербург   \n",
       "464814  5-55-555/ON/19.189854  2019-04-18  Санкт-Петербург  Санкт-Петербург   \n",
       "\n",
       "                               ProductType  Product        Status  LoanSum  \\\n",
       "125285                           ГИДФИНАНС  landing  Заем погашен   5000.0   \n",
       "328896  Повторная выдача Online 29.01.2019   online    Выдан заем   8000.0   \n",
       "464814  Повторная выдача Online 29.01.2019   online      Отказано  30000.0   \n",
       "\n",
       "       Duration                                     Name   Gender          BD  \\\n",
       "125285       16  ТЕРЕШКИН СТАНИСЛАВ СЕРГЕЕВИЧ,1993-04-02  Мужской  1993-04-02   \n",
       "328896       23  ТЕРЕШКИН СТАНИСЛАВ СЕРГЕЕВИЧ,1993-04-02  Мужской  1993-04-02   \n",
       "464814       23  ТЕРЕШКИН СТАНИСЛАВ СЕРГЕЕВИЧ,1993-04-02  Мужской  1993-04-02   \n",
       "\n",
       "        NumOfLnsBfr    ON      IDZvk          Partner  \n",
       "125285            0  True  1589858.0       gidfinance  \n",
       "328896            1  True  1981378.0       gidfinance  \n",
       "464814            2  True  2059054.0  leadgid_receipt  "
      ]
     },
     "execution_count": 21,
     "metadata": {},
     "output_type": "execute_result"
    }
   ],
   "source": [
    "zvkapidump_on[zvkapidump_on.Name == 'ТЕРЕШКИН СТАНИСЛАВ СЕРГЕЕВИЧ,1993-04-02'].sort_values('DateZvk')"
   ]
  },
  {
   "cell_type": "markdown",
   "metadata": {},
   "source": [
    "**Типичный представитель сегмента \"self only\": КРАСНОВ ДЕНИС ЮРЬЕВИЧ**  \n",
    "Впервые заходит 06/04/2019 через landing (gidfinance), затем дважды повторно обращается 20/04/2019 и 07/05/2019 через сайт FM:"
   ]
  },
  {
   "cell_type": "code",
   "execution_count": 22,
   "metadata": {},
   "outputs": [
    {
     "data": {
      "text/html": [
       "<div>\n",
       "<style scoped>\n",
       "    .dataframe tbody tr th:only-of-type {\n",
       "        vertical-align: middle;\n",
       "    }\n",
       "\n",
       "    .dataframe tbody tr th {\n",
       "        vertical-align: top;\n",
       "    }\n",
       "\n",
       "    .dataframe thead th {\n",
       "        text-align: right;\n",
       "    }\n",
       "</style>\n",
       "<table border=\"1\" class=\"dataframe\">\n",
       "  <thead>\n",
       "    <tr style=\"text-align: right;\">\n",
       "      <th></th>\n",
       "      <th>NumZvk</th>\n",
       "      <th>DateZvk</th>\n",
       "      <th>Region</th>\n",
       "      <th>City</th>\n",
       "      <th>ProductType</th>\n",
       "      <th>Product</th>\n",
       "      <th>Status</th>\n",
       "      <th>LoanSum</th>\n",
       "      <th>Duration</th>\n",
       "      <th>Name</th>\n",
       "      <th>Gender</th>\n",
       "      <th>BD</th>\n",
       "      <th>NumOfLnsBfr</th>\n",
       "      <th>ON</th>\n",
       "      <th>IDZvk</th>\n",
       "      <th>Partner</th>\n",
       "    </tr>\n",
       "  </thead>\n",
       "  <tbody>\n",
       "    <tr>\n",
       "      <th>493014</th>\n",
       "      <td>5-55-555/ON/19.166282</td>\n",
       "      <td>2019-04-06</td>\n",
       "      <td>Санкт-Петербург</td>\n",
       "      <td>Санкт-Петербург</td>\n",
       "      <td>ГИДФИНАНС 10 дней</td>\n",
       "      <td>landing</td>\n",
       "      <td>Заем погашен</td>\n",
       "      <td>5000.0</td>\n",
       "      <td>12</td>\n",
       "      <td>КРАСНОВ ДЕНИС ЮРЬЕВИЧ,1987-02-27</td>\n",
       "      <td>Мужской</td>\n",
       "      <td>1987-02-27</td>\n",
       "      <td>0</td>\n",
       "      <td>True</td>\n",
       "      <td>2030853.0</td>\n",
       "      <td>gidfinance</td>\n",
       "    </tr>\n",
       "    <tr>\n",
       "      <th>461121</th>\n",
       "      <td>5-55-555/ON/19.193040</td>\n",
       "      <td>2019-04-20</td>\n",
       "      <td>Санкт-Петербург</td>\n",
       "      <td>Санкт-Петербург</td>\n",
       "      <td>Повторная выдача Online 29.01.2019</td>\n",
       "      <td>online</td>\n",
       "      <td>Выдан заем</td>\n",
       "      <td>8000.0</td>\n",
       "      <td>23</td>\n",
       "      <td>КРАСНОВ ДЕНИС ЮРЬЕВИЧ,1987-02-27</td>\n",
       "      <td>Мужской</td>\n",
       "      <td>1987-02-27</td>\n",
       "      <td>1</td>\n",
       "      <td>True</td>\n",
       "      <td>NaN</td>\n",
       "      <td>NaN</td>\n",
       "    </tr>\n",
       "    <tr>\n",
       "      <th>519005</th>\n",
       "      <td>5-55-555/ON/19.216051</td>\n",
       "      <td>2019-05-07</td>\n",
       "      <td>Санкт-Петербург</td>\n",
       "      <td>Санкт-Петербург</td>\n",
       "      <td>Повторная выдача Online 29.01.2019</td>\n",
       "      <td>online</td>\n",
       "      <td>Выдан заем</td>\n",
       "      <td>12000.0</td>\n",
       "      <td>23</td>\n",
       "      <td>КРАСНОВ ДЕНИС ЮРЬЕВИЧ,1987-02-27</td>\n",
       "      <td>Мужской</td>\n",
       "      <td>1987-02-27</td>\n",
       "      <td>2</td>\n",
       "      <td>True</td>\n",
       "      <td>NaN</td>\n",
       "      <td>NaN</td>\n",
       "    </tr>\n",
       "  </tbody>\n",
       "</table>\n",
       "</div>"
      ],
      "text/plain": [
       "                       NumZvk     DateZvk           Region             City  \\\n",
       "493014  5-55-555/ON/19.166282  2019-04-06  Санкт-Петербург  Санкт-Петербург   \n",
       "461121  5-55-555/ON/19.193040  2019-04-20  Санкт-Петербург  Санкт-Петербург   \n",
       "519005  5-55-555/ON/19.216051  2019-05-07  Санкт-Петербург  Санкт-Петербург   \n",
       "\n",
       "                               ProductType  Product        Status  LoanSum  \\\n",
       "493014                   ГИДФИНАНС 10 дней  landing  Заем погашен   5000.0   \n",
       "461121  Повторная выдача Online 29.01.2019   online    Выдан заем   8000.0   \n",
       "519005  Повторная выдача Online 29.01.2019   online    Выдан заем  12000.0   \n",
       "\n",
       "       Duration                              Name   Gender          BD  \\\n",
       "493014       12  КРАСНОВ ДЕНИС ЮРЬЕВИЧ,1987-02-27  Мужской  1987-02-27   \n",
       "461121       23  КРАСНОВ ДЕНИС ЮРЬЕВИЧ,1987-02-27  Мужской  1987-02-27   \n",
       "519005       23  КРАСНОВ ДЕНИС ЮРЬЕВИЧ,1987-02-27  Мужской  1987-02-27   \n",
       "\n",
       "        NumOfLnsBfr    ON      IDZvk     Partner  \n",
       "493014            0  True  2030853.0  gidfinance  \n",
       "461121            1  True        NaN         NaN  \n",
       "519005            2  True        NaN         NaN  "
      ]
     },
     "execution_count": 22,
     "metadata": {},
     "output_type": "execute_result"
    }
   ],
   "source": [
    "zvkapidump_on[zvkapidump_on.Name == 'КРАСНОВ ДЕНИС ЮРЬЕВИЧ,1987-02-27'].sort_values('DateZvk')"
   ]
  },
  {
   "cell_type": "markdown",
   "metadata": {},
   "source": [
    "Структурные диаграммы выделенных сегментов построены в динамике: накопительным итогом с января по май.  \n",
    "Доля сегмента **self only** из месяца в месяц существенно превосходит другие. Т.е. впервые зайдя на сайт FM через landing, в последующем клиенты в большинстве случаев посещают его напрямую. Однако, доля таких клиентов с течением времени снижалась: с **69,4%** в январе до **57,1%** в мае. Кроме того, на соответствующей гистограмме видно, что клиенты сегмента **self only**, как правило, размещают 2-3 заявки, и дальше происходит резкое (почти пятикратное) падение числа размещаемых заявок.  \n",
    "На этом фоне происходит заметное увеличение доли сегмента **mixed**: с **10,9%** в январе до **20,7%** в мае. Доля сегмента **landing only** почти не меняется.\n",
    "\n",
    "**Вывод: отмеченное выше может означать, что после 2-3 случаев самостоятельной работы с FM, значительная часть клиентов склоняется к поиску альтернативных вариантов получения займа, т.е. перемещаются из сегмента self only в сегмент mixed** (не значит, что совсем прекращают работу с FM).\n",
    "\n",
    "Для более глубокого понимания можно смотреть, как происходят те же процессы в различных возрастных, региональных и гендерных стратах клиентов."
   ]
  },
  {
   "cell_type": "code",
   "execution_count": 23,
   "metadata": {},
   "outputs": [
    {
     "data": {
      "image/png": "[encoded data removed]",
      "text/plain": [
       "<Figure size 1080x720 with 6 Axes>"
      ]
     },
     "metadata": {
      "needs_background": "light"
     },
     "output_type": "display_data"
    }
   ],
   "source": [
    "sts = []\n",
    "month = [jan, feb, mar, apr, may]\n",
    "for m in month: sts.append([len(i) for i in m])\n",
    "\n",
    "title = ['Январь', 'Январь-Февраль', 'Январь-Март', 'Январь-Апрель', 'Январь-Май']\n",
    "fig, axes = plt.subplots(2, 3, figsize = (15, 10))\n",
    "for m, i, ax in zip(title, sts, axes.flatten()):\n",
    "    ax.pie(i, shadow = True, autopct = '%.1f', explode = [0.05, 0.05, 0.05])\n",
    "    if m == 'Январь': ax.legend(['mixed', 'landing only', 'self only'])\n",
    "    ax.set_title(m)"
   ]
  },
  {
   "cell_type": "code",
   "execution_count": 26,
   "metadata": {},
   "outputs": [
    {
     "data": {
      "image/png": "[encoded data removed]",
      "text/plain": [
       "<Figure size 1080x360 with 3 Axes>"
      ]
     },
     "metadata": {
      "needs_background": "light"
     },
     "output_type": "display_data"
    }
   ],
   "source": [
    "title = ['mixed', 'landing only', 'self only']\n",
    "fig, axes = plt.subplots(1, 3, figsize = (15, 5))\n",
    "for m, i, ax in zip(title, s, axes.flatten()):\n",
    "    ax.hist(i, rwidth = 0.8)\n",
    "    ax.set_xticks(list(set(i)))\n",
    "    ax.grid(axis = 'y')\n",
    "    ax.set_xlabel('Кол-во заявок')\n",
    "    ax.set_ylabel('Кол-во клиентов')\n",
    "    ax.set_title(m)"
   ]
  },
  {
   "cell_type": "markdown",
   "metadata": {},
   "source": [
    "## Далее - текст скрипта, можно не смотреть."
   ]
  },
  {
   "cell_type": "code",
   "execution_count": 2,
   "metadata": {},
   "outputs": [
    {
     "name": "stdout",
     "output_type": "stream",
     "text": [
      "C:\\Users\\luzhbin.aleksey\\Desktop\\analytics\n"
     ]
    }
   ],
   "source": [
    "import warnings\n",
    "warnings.filterwarnings('ignore')\n",
    "import pandas as pd\n",
    "from glob import glob\n",
    "import matplotlib.pyplot as plt\n",
    "from datetime import datetime as dt\n",
    "%cd C:\\Users\\luzhbin.aleksey\\Desktop\\analytics"
   ]
  },
  {
   "cell_type": "markdown",
   "metadata": {},
   "source": [
    "**Загрузка и обработка отчетов Все заявки (zvk)**  \n",
    "Задвоение строк в консолидированном отчете может происходить из-за избыточности информации: \"наложение\" отчетов при выгрузке из базы (приэтом статусы в одной и той же заявке могут отличаться). Некоторые заявки, попадающие в отчет, не получают номер (*NumZvk*): в основном, это заявки со статусом *отклонена*, но не только (пока не ясно, почему)."
   ]
  },
  {
   "cell_type": "code",
   "execution_count": 3,
   "metadata": {},
   "outputs": [
    {
     "name": "stdout",
     "output_type": "stream",
     "text": [
      "C:\\Users\\luzhbin.aleksey\\Desktop\\analytics\\zvk\n",
      "C:\\Users\\luzhbin.aleksey\\Desktop\\analytics\n"
     ]
    },
    {
     "data": {
      "text/plain": [
       "536555"
      ]
     },
     "execution_count": 3,
     "metadata": {},
     "output_type": "execute_result"
    }
   ],
   "source": [
    "%cd zvk\n",
    "path = glob('*.csv')\n",
    "\n",
    "usecols = [0, 1, 4, 5, 6, 7, 8, 9, 10, 14, 16, 17, 27]\n",
    "names = ['NumZvk', 'DateZvk', 'Region', 'City', 'ProductType', 'Product', 'Status',\n",
    "                             'LoanSum', 'Duration', 'Name', 'Gender', 'BD', 'NumOfLnsBfr']\n",
    "\n",
    "zvk = pd.read_csv(path[0], sep = ';', skiprows = 1, decimal = ',',\n",
    "                        dtype = {'LoanSum': 'float'},\n",
    "                        names = names,\n",
    "                        usecols = usecols, encoding = 'cp1251')\n",
    "\n",
    "for i in range(1, len(path)):\n",
    "    tmp = pd.read_csv(path[i], sep = ';', skiprows = 1, decimal = ',',\n",
    "                        dtype = {'LoanSum': 'float'},\n",
    "                        names = names,\n",
    "                        usecols = usecols, encoding = 'cp1251')\n",
    "    zvk = zvk.append(tmp, ignore_index = True)\n",
    "%cd ..\n",
    "zvk.shape[0]"
   ]
  },
  {
   "cell_type": "code",
   "execution_count": 4,
   "metadata": {},
   "outputs": [
    {
     "data": {
      "text/plain": [
       "536354"
      ]
     },
     "execution_count": 4,
     "metadata": {},
     "output_type": "execute_result"
    }
   ],
   "source": [
    "zvk.dropna(subset = ['NumZvk'], inplace = True)\n",
    "zvk.shape[0]"
   ]
  },
  {
   "cell_type": "code",
   "execution_count": 5,
   "metadata": {},
   "outputs": [
    {
     "data": {
      "text/plain": [
       "532889"
      ]
     },
     "execution_count": 5,
     "metadata": {},
     "output_type": "execute_result"
    }
   ],
   "source": [
    "zvk.drop_duplicates(subset = ['NumZvk'], inplace = True)\n",
    "zvk.shape[0]"
   ]
  },
  {
   "cell_type": "code",
   "execution_count": 6,
   "metadata": {},
   "outputs": [],
   "source": [
    "zvk['DateZvk'] = list(map(lambda x: dt.strptime(x.split(' ')[0], \"%Y-%m-%d\").date(), zvk.DateZvk))\n",
    "zvk['ON'] = list(map(lambda x: 'ON' in x, zvk.NumZvk))\n",
    "zvk['Name'] = list(map(lambda x, y: x + ',' + str(y), zvk.Name, zvk.BD))"
   ]
  },
  {
   "cell_type": "markdown",
   "metadata": {},
   "source": [
    "**Загрузка и обработка отчетов API (api)**  \n",
    "По-видимому, в этот отчет попадают все заявки. Непустые поля *NamePrtnr* соответствуют *retail-online*. Пустые поля *NamePrtnr* означают либо заявки *ON*, либо объекты (*OFF*)."
   ]
  },
  {
   "cell_type": "code",
   "execution_count": 7,
   "metadata": {},
   "outputs": [
    {
     "name": "stdout",
     "output_type": "stream",
     "text": [
      "C:\\Users\\luzhbin.aleksey\\Desktop\\analytics\\api\n",
      "C:\\Users\\luzhbin.aleksey\\Desktop\\analytics\n",
      "540897\n"
     ]
    }
   ],
   "source": [
    "%cd api\n",
    "path = glob('*.csv')\n",
    "\n",
    "usecols = [0, 1, 4]\n",
    "names = ['NumZvk', 'IDZvk', 'NamePrtnr']\n",
    "\n",
    "api = pd.read_csv(path[0], sep = ';', skiprows = 1,\n",
    "                        names = names,\n",
    "                        usecols = usecols, encoding = 'cp1251')\n",
    "\n",
    "for i in range(1, len(path)):\n",
    "    tmp = pd.read_csv(path[i], sep = ';', skiprows = 1,\n",
    "                        names = names,\n",
    "                        usecols = usecols, encoding = 'cp1251')\n",
    "    api = api.append(tmp, ignore_index = True)\n",
    "%cd ..\n",
    "print(api.shape[0])"
   ]
  },
  {
   "cell_type": "code",
   "execution_count": 8,
   "metadata": {},
   "outputs": [
    {
     "data": {
      "text/plain": [
       "540696"
      ]
     },
     "execution_count": 8,
     "metadata": {},
     "output_type": "execute_result"
    }
   ],
   "source": [
    "api.dropna(subset = ['NumZvk', 'IDZvk'], inplace = True)\n",
    "api.shape[0]"
   ]
  },
  {
   "cell_type": "code",
   "execution_count": 9,
   "metadata": {},
   "outputs": [
    {
     "data": {
      "text/plain": [
       "532897"
      ]
     },
     "execution_count": 9,
     "metadata": {},
     "output_type": "execute_result"
    }
   ],
   "source": [
    "api.drop_duplicates(inplace = True)\n",
    "api.shape[0]"
   ]
  },
  {
   "cell_type": "markdown",
   "metadata": {},
   "source": [
    "**Загрузка и обработка отчетов *dump***  \n",
    "B dump нет *объектов* (в т.ч. *retail-online*) и \"*самоходов*\". Задвоение строк в отчете происходит по отказным заявкам (что, возможно, связано с их последующей продажей)."
   ]
  },
  {
   "cell_type": "code",
   "execution_count": 10,
   "metadata": {},
   "outputs": [
    {
     "name": "stdout",
     "output_type": "stream",
     "text": [
      "C:\\Users\\luzhbin.aleksey\\Desktop\\analytics\\dump\n",
      "C:\\Users\\luzhbin.aleksey\\Desktop\\analytics\n",
      "135769\n"
     ]
    }
   ],
   "source": [
    "%cd dump\n",
    "path = glob('*.csv')\n",
    "\n",
    "usecols = [0, 3, 7]\n",
    "names = ['Partner', 'IDZvk', 'http']\n",
    "\n",
    "dump = pd.read_csv(path[0], sep = ';', skiprows = 1,\n",
    "                        names = names,\n",
    "                        usecols = usecols, encoding = 'cp1251')\n",
    "\n",
    "for i in range(1, len(path)):\n",
    "    tmp = pd.read_csv(path[i], sep = ';', skiprows = 1,\n",
    "                        names = names,\n",
    "                        usecols = usecols, encoding = 'cp1251')\n",
    "    dump = dump.append(tmp, ignore_index = True)\n",
    "%cd ..\n",
    "print(dump.shape[0])"
   ]
  },
  {
   "cell_type": "code",
   "execution_count": 11,
   "metadata": {},
   "outputs": [
    {
     "data": {
      "text/plain": [
       "135769"
      ]
     },
     "execution_count": 11,
     "metadata": {},
     "output_type": "execute_result"
    }
   ],
   "source": [
    "dump.dropna(subset = ['IDZvk'], inplace = True)\n",
    "dump.shape[0]"
   ]
  },
  {
   "cell_type": "code",
   "execution_count": 12,
   "metadata": {},
   "outputs": [
    {
     "data": {
      "text/plain": [
       "134802"
      ]
     },
     "execution_count": 12,
     "metadata": {},
     "output_type": "execute_result"
    }
   ],
   "source": [
    "dump.drop_duplicates(subset = ['IDZvk'], inplace = True)\n",
    "dump.shape[0]"
   ]
  },
  {
   "cell_type": "markdown",
   "metadata": {},
   "source": [
    "**apidump включает retail-online и landing (т.е. не включает online-\"самоходов\" и объекты)**"
   ]
  },
  {
   "cell_type": "code",
   "execution_count": 13,
   "metadata": {},
   "outputs": [],
   "source": [
    "apidump = pd.merge(left = api, right = dump, how = 'left', on = 'IDZvk', validate = 'one_to_one')\n",
    "apidump.dropna(how = 'all', subset = apidump.columns[2:], inplace = True)"
   ]
  },
  {
   "cell_type": "code",
   "execution_count": 14,
   "metadata": {},
   "outputs": [],
   "source": [
    "zvkapidump = pd.merge(left = zvk, right = apidump, how = 'left', on = 'NumZvk', validate = 'one_to_one')"
   ]
  },
  {
   "cell_type": "markdown",
   "metadata": {},
   "source": [
    "**zvkapidump_on включает только направление online**"
   ]
  },
  {
   "cell_type": "code",
   "execution_count": 16,
   "metadata": {},
   "outputs": [
    {
     "name": "stdout",
     "output_type": "stream",
     "text": [
      "224404\n"
     ]
    },
    {
     "data": {
      "text/html": [
       "<div>\n",
       "<style scoped>\n",
       "    .dataframe tbody tr th:only-of-type {\n",
       "        vertical-align: middle;\n",
       "    }\n",
       "\n",
       "    .dataframe tbody tr th {\n",
       "        vertical-align: top;\n",
       "    }\n",
       "\n",
       "    .dataframe thead th {\n",
       "        text-align: right;\n",
       "    }\n",
       "</style>\n",
       "<table border=\"1\" class=\"dataframe\">\n",
       "  <thead>\n",
       "    <tr style=\"text-align: right;\">\n",
       "      <th></th>\n",
       "      <th>NumZvk</th>\n",
       "      <th>DateZvk</th>\n",
       "      <th>Region</th>\n",
       "      <th>City</th>\n",
       "      <th>ProductType</th>\n",
       "      <th>Product</th>\n",
       "      <th>Status</th>\n",
       "      <th>LoanSum</th>\n",
       "      <th>Duration</th>\n",
       "      <th>Name</th>\n",
       "      <th>Gender</th>\n",
       "      <th>BD</th>\n",
       "      <th>NumOfLnsBfr</th>\n",
       "      <th>ON</th>\n",
       "      <th>IDZvk</th>\n",
       "      <th>Partner</th>\n",
       "    </tr>\n",
       "  </thead>\n",
       "  <tbody>\n",
       "    <tr>\n",
       "      <th>2</th>\n",
       "      <td>5-55-555/ON/19.55507</td>\n",
       "      <td>2019-01-31</td>\n",
       "      <td>Санкт-Петербург</td>\n",
       "      <td>Санкт-Петербург</td>\n",
       "      <td>Leadgid 29.01.2019</td>\n",
       "      <td>landing</td>\n",
       "      <td>Отказано</td>\n",
       "      <td>5000.0</td>\n",
       "      <td>23</td>\n",
       "      <td>ФИЛИПЕНКОВ НИКОЛАЙ ИГОРЕВИЧ,1998-12-16</td>\n",
       "      <td>Мужской</td>\n",
       "      <td>1998-12-16</td>\n",
       "      <td>0</td>\n",
       "      <td>True</td>\n",
       "      <td>1715153.0</td>\n",
       "      <td>leadgid</td>\n",
       "    </tr>\n",
       "  </tbody>\n",
       "</table>\n",
       "</div>"
      ],
      "text/plain": [
       "                 NumZvk     DateZvk           Region             City  \\\n",
       "2  5-55-555/ON/19.55507  2019-01-31  Санкт-Петербург  Санкт-Петербург   \n",
       "\n",
       "          ProductType  Product    Status  LoanSum Duration  \\\n",
       "2  Leadgid 29.01.2019  landing  Отказано   5000.0       23   \n",
       "\n",
       "                                     Name   Gender          BD  NumOfLnsBfr  \\\n",
       "2  ФИЛИПЕНКОВ НИКОЛАЙ ИГОРЕВИЧ,1998-12-16  Мужской  1998-12-16            0   \n",
       "\n",
       "     ON      IDZvk  Partner  \n",
       "2  True  1715153.0  leadgid  "
      ]
     },
     "execution_count": 16,
     "metadata": {},
     "output_type": "execute_result"
    }
   ],
   "source": [
    "zvkapidump_on = zvkapidump[(zvkapidump.ON == True) & (zvkapidump.Product != 'auto-lombard')]\n",
    "zvkapidump_on.drop(columns = ['NamePrtnr', 'http'], inplace = True)\n",
    "print(zvkapidump_on.shape[0])\n",
    "zvkapidump_on[:1]"
   ]
  },
  {
   "cell_type": "markdown",
   "metadata": {},
   "source": [
    "**Контрольная точка: таких записей быть не должно!** (shape = 0)"
   ]
  },
  {
   "cell_type": "code",
   "execution_count": 17,
   "metadata": {},
   "outputs": [
    {
     "data": {
      "text/plain": [
       "256"
      ]
     },
     "execution_count": 17,
     "metadata": {},
     "output_type": "execute_result"
    }
   ],
   "source": [
    "zvkapidump_on[(zvkapidump_on.Product == 'landing') & (pd.isnull(zvkapidump_on.IDZvk) == True)\\\n",
    "              & (zvkapidump_on.Status != 'Отказано')].shape[0]"
   ]
  },
  {
   "cell_type": "markdown",
   "metadata": {},
   "source": [
    "**Нас интересуют только первичные заемщики с каналом привлечения *landing***  \n",
    "(по отказным заявкам в отчете может быть сочетание *Product* = *landing*, *NumOfLnsBfr* = 1):"
   ]
  },
  {
   "cell_type": "code",
   "execution_count": 18,
   "metadata": {},
   "outputs": [],
   "source": [
    "def sets(df):\n",
    "    set_all = set(df.Name[(df.NumOfLnsBfr == 0) & (df.Product == 'landing')])\n",
    "    set_landing = set(df.Name[(df.NumOfLnsBfr != 0)\\\n",
    "                                            & (pd.isnull(df.Partner) == False)])\\\n",
    "                                            & set_all\n",
    "    set_self = set(df.Name[(df.NumOfLnsBfr != 0)\\\n",
    "                                            & (pd.isnull(df.Partner) == True)])\\\n",
    "                                            & set_all\n",
    "    set_mixed = set_landing & set_self\n",
    "    set_landing_only = set_landing - set_mixed\n",
    "    set_self_only = set_self - set_mixed\n",
    "    return [set_mixed, set_landing_only, set_self_only]"
   ]
  },
  {
   "cell_type": "code",
   "execution_count": 19,
   "metadata": {},
   "outputs": [],
   "source": [
    "jan = sets(zvkapidump_on[zvkapidump_on.DateZvk < dt.strptime('2019-02-01', \"%Y-%m-%d\").date()])\n",
    "feb = sets(zvkapidump_on[zvkapidump_on.DateZvk < dt.strptime('2019-03-01', \"%Y-%m-%d\").date()])\n",
    "mar = sets(zvkapidump_on[zvkapidump_on.DateZvk < dt.strptime('2019-04-01', \"%Y-%m-%d\").date()])\n",
    "apr = sets(zvkapidump_on[zvkapidump_on.DateZvk < dt.strptime('2019-05-01', \"%Y-%m-%d\").date()])\n",
    "may = sets(zvkapidump_on[zvkapidump_on.DateZvk < dt.strptime('2019-06-01', \"%Y-%m-%d\").date()])"
   ]
  },
  {
   "cell_type": "code",
   "execution_count": null,
   "metadata": {},
   "outputs": [],
   "source": []
  },
  {
   "cell_type": "code",
   "execution_count": 25,
   "metadata": {},
   "outputs": [],
   "source": [
    "s = []\n",
    "for i in range(len(may)):\n",
    "    d = []\n",
    "    for j in may[i]:\n",
    "        d.append(len(zvkapidump_on.NumZvk[zvkapidump_on.Name == j]))\n",
    "    s.append(d)"
   ]
  },
  {
   "cell_type": "code",
   "execution_count": null,
   "metadata": {},
   "outputs": [],
   "source": []
  }
 ],
 "metadata": {
  "kernelspec": {
   "display_name": "Python 3",
   "language": "python",
   "name": "python3"
  },
  "language_info": {
   "codemirror_mode": {
    "name": "ipython",
    "version": 3
   },
   "file_extension": ".py",
   "mimetype": "text/x-python",
   "name": "python",
   "nbconvert_exporter": "python",
   "pygments_lexer": "ipython3",
   "version": "3.7.3"
  }
 },
 "nbformat": 4,
 "nbformat_minor": 2
}
